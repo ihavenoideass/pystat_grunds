{
 "cells": [
  {
   "cell_type": "markdown",
   "id": "dacf74e6",
   "metadata": {},
   "source": [
    "# NumPy"
   ]
  },
  {
   "cell_type": "markdown",
   "id": "01b2bf34",
   "metadata": {},
   "source": [
    "Read the links: https://numpy.org/doc/stable/user/quickstart.html  and https://numpy.org/doc/stable/user/basics.broadcasting.html  before solving the exercises. "
   ]
  },
  {
   "cell_type": "code",
   "execution_count": 2,
   "id": "1f79e4a6",
   "metadata": {},
   "outputs": [],
   "source": [
    "import numpy as np"
   ]
  },
  {
   "cell_type": "markdown",
   "id": "7dae6889",
   "metadata": {},
   "source": [
    "### Print out the dimension (number of axes), shape, size and the datatype of the matrix A."
   ]
  },
  {
   "cell_type": "code",
   "execution_count": null,
   "id": "7b3678cd",
   "metadata": {},
   "outputs": [],
   "source": [
    "A = np.arange(1, 16).reshape(3,5)\n",
    "print(A)"
   ]
  },
  {
   "cell_type": "code",
   "execution_count": null,
   "id": "31d39235",
   "metadata": {},
   "outputs": [],
   "source": [
    "#Antal \"axes\"\n",
    "print(A.ndim)\n",
    "\n",
    "#Hur matrisen ser ut, dvs 3x5\n",
    "print(A.shape)\n",
    "\n",
    "#Hur många element som finns i matrisen\n",
    "print(A.size)\n",
    "\n",
    "#Vilken datatyp det är, int32 i detta fallet då\n",
    "print(A.dtype)"
   ]
  },
  {
   "cell_type": "markdown",
   "id": "e56d2a96",
   "metadata": {},
   "source": [
    "### Do the following computations on the matrices B and C: \n",
    "* Elementwise subtraction. \n",
    "* Elementwise multiplication. \n",
    "* Matrix multiplication (by default you should use the @ operator)."
   ]
  },
  {
   "cell_type": "code",
   "execution_count": null,
   "id": "a7053fbb",
   "metadata": {},
   "outputs": [],
   "source": [
    "B = np.arange(1, 10).reshape(3, 3)\n",
    "C = np.ones((3, 3))*2\n",
    "#print(B)\n",
    "#print(C)\n",
    "#print(type(B))\n",
    "#print(type(C))\n",
    "print(np.subtract(B, C))\n",
    "print(np.multiply(B, C))\n",
    "\n",
    "print(B @ C)"
   ]
  },
  {
   "cell_type": "markdown",
   "id": "96030d53",
   "metadata": {},
   "source": [
    "### Do the following calculations on the matrix:\n",
    "* Exponentiate each number elementwise (use the np.exp function).\n",
    "\n",
    "* Calculate the minimum value in the whole matrix. \n",
    "* Calculcate the minimum value in each row. \n",
    "* Calculcate the minimum value in each column. \n",
    "\n",
    "\n",
    "* Find the index value for the minimum value in the whole matrix (hint: use np.argmin).\n",
    "* Find the index value for the minimum value in each row (hint: use np.argmin).\n",
    "\n",
    "\n",
    "* Calculate the sum for all elements.\n",
    "* Calculate the mean for each column. \n",
    "* Calculate the median for each column. "
   ]
  },
  {
   "cell_type": "code",
   "execution_count": null,
   "id": "f8a9166b",
   "metadata": {},
   "outputs": [],
   "source": [
    "B = np.arange(1, 10).reshape(3, 3)\n",
    "print(B)"
   ]
  },
  {
   "cell_type": "code",
   "execution_count": null,
   "id": "f03f24f7",
   "metadata": {},
   "outputs": [],
   "source": [
    "\n",
    "#np.exp tar alltså första elementet i matrisen och höjer upp den med basen e\n",
    "# dvs, e^1, e^2, e^3 etc.\n",
    "print(\"Använder basen e på varje element i matrisen: \", np.exp(B), \"\\n\")\n",
    "\n",
    "#Hittar mionsta värdet i HELA matrisen\n",
    "print(\"Printar minsta värdet i hela matrisen: \", B.min(), \"\\n\")\n",
    "\n",
    "#Kalylerar minsta värdet i varje rad\n",
    "print(\"Printar minsta värdet för varje rad i matrisen: \",B.min(axis=1), \"\\n\")\n",
    "\n",
    "#Kalkylerar minsta värdet i varje column\n",
    "print(\"Printar minsta värdet i varje kolumn: \", B.min(axis=0), \"\\n\")\n",
    "\n",
    "print(\"Printar index-värdet för det minsta elementet i hela matrisen :\", B.argmin(), \"\\n\")\n",
    "print(\"Printar index-värdet för det minsta elementet i rad :\", B.argmin(axis=1), \"\\n\")\n",
    "\n",
    "print(\"Printar summan för alla element: \", B.sum(), \"\\n\")\n",
    "print(\"Printar medelvärdet för varje kolumn: \", B.mean(axis=0), \"\\n\")\n",
    "print(\"Printar medianen för varje kolumn: \", np.median(B, axis=0), \"\\n\")"
   ]
  },
  {
   "cell_type": "markdown",
   "id": "541eb7ba",
   "metadata": {},
   "source": [
    "### What does it mean when you provide fewer indices than axes when slicing? See example below."
   ]
  },
  {
   "cell_type": "code",
   "execution_count": null,
   "id": "9c8abf56",
   "metadata": {},
   "outputs": [],
   "source": [
    "print(A)"
   ]
  },
  {
   "cell_type": "code",
   "execution_count": null,
   "id": "69415f7b",
   "metadata": {},
   "outputs": [],
   "source": [
    "A[1]"
   ]
  },
  {
   "cell_type": "markdown",
   "id": "6c53541b",
   "metadata": {},
   "source": [
    "**Answer:**"
   ]
  },
  {
   "cell_type": "code",
   "execution_count": null,
   "id": "de01e120",
   "metadata": {},
   "outputs": [],
   "source": [
    "#Jag tar endast ut \"index\" [1] när jag skriver A[1]. A[0] är 1-5, A[3] är 11-15"
   ]
  },
  {
   "cell_type": "markdown",
   "id": "6652d0c9",
   "metadata": {},
   "source": [
    "### Iterating over multidimensional arrays is done with respect to the first axis, so in the example below we iterate trough the rows. If you would like to iterate through the array *elementwise*, how would you do that?"
   ]
  },
  {
   "cell_type": "code",
   "execution_count": null,
   "id": "9459864f",
   "metadata": {},
   "outputs": [],
   "source": [
    "A"
   ]
  },
  {
   "cell_type": "code",
   "execution_count": null,
   "id": "a671bb5a",
   "metadata": {},
   "outputs": [],
   "source": [
    "for i in A:\n",
    "    print(i)"
   ]
  },
  {
   "cell_type": "code",
   "execution_count": null,
   "id": "f4e443a0",
   "metadata": {},
   "outputs": [],
   "source": [
    "for i in np.nditer(A):\n",
    "    print(i, end= \" \")"
   ]
  },
  {
   "cell_type": "markdown",
   "id": "608a2583",
   "metadata": {},
   "source": [
    "### Explain what the code below does. More specifically, b has three axes - what does this mean? "
   ]
  },
  {
   "cell_type": "code",
   "execution_count": null,
   "id": "f8f9b26f",
   "metadata": {},
   "outputs": [],
   "source": [
    "a = np.arange(30)\n",
    "b = a.reshape((2, 3, -1))\n",
    "print(a)\n",
    "print()\n",
    "\n",
    "print(b)\n",
    "\n",
    "print(b.shape)"
   ]
  },
  {
   "cell_type": "code",
   "execution_count": null,
   "id": "863a45df",
   "metadata": {},
   "outputs": [],
   "source": [
    "#a = 1D array och 3 axes = b = 3D array med 2x3x5 shape"
   ]
  },
  {
   "cell_type": "markdown",
   "id": "ab5933d5",
   "metadata": {},
   "source": [
    "### Broadcasting\n",
    "**Read the following link about broadcasting: https://numpy.org/doc/stable/user/basics.broadcasting.html#basics-broadcasting**"
   ]
  },
  {
   "cell_type": "markdown",
   "id": "039805ba",
   "metadata": {},
   "source": [
    "# Remark on Broadcasting when doing Linear Algebra calculations in Python. "
   ]
  },
  {
   "cell_type": "markdown",
   "id": "c4bcc147",
   "metadata": {},
   "source": [
    "### From the mathematical rules of matrix addition, the operation below (m1 + m2) does not make sense. The reason is that matrix addition requires two matrices of the same size. In Python however, it works due to broadcasting rules in NumPy. So you must be careful when doing Linear Algebra calculations in Python since they do not follow the \"mathematical rules\". This can however easily be handled by doing some simple programming, for example validating that two matrices have the same shape is easy if you for instance want to add two matrices. "
   ]
  },
  {
   "cell_type": "code",
   "execution_count": null,
   "id": "1fd46778",
   "metadata": {},
   "outputs": [],
   "source": [
    "m1 = np.array([[1, 2], [3, 4]])\n",
    "m2 = np.array([1, 1])\n",
    "print(m1 + m2)\n",
    "\n",
    "print(m1.shape)\n",
    "print(m2.shape)"
   ]
  },
  {
   "cell_type": "markdown",
   "id": "047d6576",
   "metadata": {},
   "source": [
    "### The example below would also not be allowed if following the \"mathematical rules\" in Linear Algebra. But it works due to broadcasting in NumPy. "
   ]
  },
  {
   "cell_type": "code",
   "execution_count": null,
   "id": "5e6ef2e4",
   "metadata": {},
   "outputs": [],
   "source": [
    "v1 = np.array([1, 2, 3])\n",
    "print(v1 + 1)"
   ]
  },
  {
   "cell_type": "code",
   "execution_count": null,
   "id": "e2cbae26",
   "metadata": {},
   "outputs": [],
   "source": [
    "A = np.arange(1, 5).reshape(2,2)\n",
    "print(A)\n",
    "\n",
    "b = np.array([2, 2])\n",
    "print(b, \"\\n\")\n",
    "\n",
    "\n",
    "\n",
    "print(A+b)"
   ]
  },
  {
   "cell_type": "markdown",
   "id": "722fd5cd",
   "metadata": {},
   "source": [
    "# Linear Algebra Exercises"
   ]
  },
  {
   "cell_type": "markdown",
   "id": "b8935099",
   "metadata": {},
   "source": [
    "The exercies are taken from the \"Matrix Algebra for Engineers\" by Chasnov: https://www.math.hkust.edu.hk/~machas/matrix-algebra-for-engineers.pdf .\n",
    "\n",
    "Do the following exercises: \n",
    "* Chapter 2, exercise 1-3.\n",
    "* Quiz on p.11, exercise 2. \n",
    "* Chapter 6, exercise 1. \n",
    "* Quiz on p.19, exercise 3. \n",
    "\n",
    "\n",
    "* Chapter 10, exercise 1. \n",
    "* Chapter 12 exercise 1. \n"
   ]
  },
  {
   "cell_type": "code",
   "execution_count": null,
   "id": "a452a77a",
   "metadata": {},
   "outputs": [],
   "source": [
    "A = np.array([[2, 1, -1], [1, -1, 1]])\n",
    "B = np.array([[4, -2, 1], [2, -4, -2]])\n",
    "\n",
    "C = np.array([[1, 2], [2, 1]])\n",
    "D = np.array([[3, 4], [4, 3]])\n",
    "\n",
    "E = np.array([[1], [2]])\n",
    "\n",
    "print(A)\n",
    "print(B)\n",
    "print(C)\n",
    "print(D)\n",
    "print(E)"
   ]
  },
  {
   "cell_type": "markdown",
   "id": "9d8366cc",
   "metadata": {},
   "source": [
    "**Chap2. Question 1.**\n",
    "\n",
    "**Write a function \"add_mult_matrices\" that takes two matrices as input arguments (validate that the input are of the type numpy.ndarray by using the isinstance function), a third argument that is either 'add' or 'multiply' that specifies if you want to add or multiply the matrices (validate that the third argument is either 'add' or 'multiply'). When doing matrix addition, validate that the matrices have the same size. When doing matrix multiplication, validate that the sizes conform (i.e. number of columns in the first matrix is equal to the number of rows in the second matrix).**\n",
    "\n",
    "In this exercise, create a function that takes two matrices as input and either adds or multiplies them by specifying a argument as either 'add' or 'multiply'. Validate that both matrices taken as input are of the type ndarray (use the isinstance function)."
   ]
  },
  {
   "cell_type": "code",
   "execution_count": null,
   "id": "535ee48c",
   "metadata": {},
   "outputs": [],
   "source": [
    "def add_mult_matrices(mat1, mat2, add_multi):\n",
    "    \n",
    "        if not (isinstance(mat1, np.ndarray) and isinstance (mat2, np.ndarray)):\n",
    "            raise Exception(\"We need matrixes. \")\n",
    "        \n",
    "        if add_multi == \"add\":\n",
    "                if not mat1.shape == mat2.shape:\n",
    "                    print(\"Not Defined\")\n",
    "                else:\n",
    "                    return mat1 + mat2\n",
    "        elif add_multi == \"multiply\":\n",
    "            if not mat1.shape[1] == mat2.shape[0]:\n",
    "                print(\"Not Defined\")\n",
    "            else:\n",
    "                return mat1 @ mat2\n",
    "        elif add_multi != \"add\" and add_multi != \"multiply\":\n",
    "            return \"Choose either add or multiply\"\n",
    "\n",
    "        \n"
   ]
  },
  {
   "cell_type": "code",
   "execution_count": null,
   "id": "44dab740",
   "metadata": {
    "scrolled": true
   },
   "outputs": [],
   "source": [
    "#B-2A\n",
    "print(add_mult_matrices(B, -2*A, \"add\"))\n",
    "\n",
    "#testade så att if not isinstance fungerade.\n",
    "#print(add_mult_matrices(32, 18, \"add\"))\n"
   ]
  },
  {
   "cell_type": "code",
   "execution_count": null,
   "id": "70d1b4b5",
   "metadata": {},
   "outputs": [],
   "source": [
    "#3C-E (ska bli ej definierad)\n",
    "print(add_mult_matrices(3*C, -E, \"add\"))"
   ]
  },
  {
   "cell_type": "code",
   "execution_count": null,
   "id": "d59a23d6",
   "metadata": {},
   "outputs": [],
   "source": [
    "#AC (ska bli ej definierad)\n",
    "print(add_mult_matrices(A, C, \"multiply\"))"
   ]
  },
  {
   "cell_type": "code",
   "execution_count": null,
   "id": "4ff285dd",
   "metadata": {},
   "outputs": [],
   "source": [
    "#CD\n",
    "print(add_mult_matrices(C, D, \"multiply\"))"
   ]
  },
  {
   "cell_type": "code",
   "execution_count": null,
   "id": "3d6123f9",
   "metadata": {},
   "outputs": [],
   "source": [
    "#CB\n",
    "print(add_mult_matrices(C, B, \"multiply\"))"
   ]
  },
  {
   "cell_type": "markdown",
   "id": "644d148b",
   "metadata": {},
   "source": [
    "**Chap2. Question 2**\n"
   ]
  },
  {
   "cell_type": "code",
   "execution_count": null,
   "id": "eede3e9d",
   "metadata": {},
   "outputs": [],
   "source": [
    "Aa = np.array([[1, 2], [2, 4]])\n",
    "Bb = np.array([[2, 1], [1, 3]])\n",
    "Cc = np.array([[4, 3], [0, 2]])"
   ]
  },
  {
   "cell_type": "code",
   "execution_count": null,
   "id": "35032289",
   "metadata": {},
   "outputs": [],
   "source": [
    "AB = add_mult_matrices(Aa, Bb, \"multiply\")\n",
    "AC = add_mult_matrices(Aa, Cc, \"multiply\")\n",
    "\n",
    "print(\"Är Matris AB = AC? :\", \"\\n\", AB == AC, \"\\n\")\n",
    "\n",
    "print(\"Är Matris B != C? : \", \"\\n\",  Bb != Cc)"
   ]
  },
  {
   "cell_type": "code",
   "execution_count": null,
   "id": "048df8ff",
   "metadata": {},
   "outputs": [],
   "source": [
    "print(\"AB:\", \"\\n\", AB, \"\\n\")\n",
    "\n",
    "print(\"AC:\", \"\\n\", AC, \"\\n\")"
   ]
  },
  {
   "cell_type": "markdown",
   "id": "a7f5b140",
   "metadata": {},
   "source": [
    "**Chap2. Question 3**"
   ]
  },
  {
   "cell_type": "code",
   "execution_count": null,
   "id": "668b1323",
   "metadata": {},
   "outputs": [],
   "source": [
    "Aaa = np.array([[1, 1, 1], [1, 2, 3], [1, 3, 4]])\n",
    "Ddd = np.array([[2, 0, 0], [0, 3, 0], [0, 0, 4]])"
   ]
  },
  {
   "cell_type": "code",
   "execution_count": null,
   "id": "ff29faec",
   "metadata": {
    "scrolled": true
   },
   "outputs": [],
   "source": [
    "AaaDdd = (add_mult_matrices(Aaa, Ddd, \"multiply\"))\n",
    "DddAaa = (add_mult_matrices(Ddd, Aaa, \"multiply\"))\n",
    "\n",
    "print(\"AD:\", \"\\n\", AaaDdd, \"\\n\")\n",
    "print(\"DA:\", \"\\n\", DddAaa, \"\\n\")"
   ]
  },
  {
   "cell_type": "markdown",
   "id": "334ca623",
   "metadata": {},
   "source": [
    "**Quiz p.11, Question 2**"
   ]
  },
  {
   "cell_type": "code",
   "execution_count": null,
   "id": "b031a786",
   "metadata": {},
   "outputs": [],
   "source": [
    "Q1 = np.array([[1, -1], [-1, 1]])\n",
    "Q2 = np.array([[-1, 1], [1, -1]])"
   ]
  },
  {
   "cell_type": "code",
   "execution_count": null,
   "id": "ad84b62c",
   "metadata": {
    "scrolled": true
   },
   "outputs": [],
   "source": [
    "Q1Q2 = (add_mult_matrices(Q1, Q2, \"multiply\"))\n",
    "print(\"Q1Q2: \", \"\\n\", Q1Q2, \"\\n\")\n",
    "\n",
    "#Svar: A, på Quiz uppg2"
   ]
  },
  {
   "cell_type": "markdown",
   "id": "fbfb4124",
   "metadata": {},
   "source": [
    "**Chap 6. Question 1**"
   ]
  },
  {
   "cell_type": "code",
   "execution_count": null,
   "id": "9c68d160",
   "metadata": {},
   "outputs": [],
   "source": [
    "I1 = np.array([[5, 6], [4, 5]])\n",
    "I2 = np.array([[6, 4], [3, 3]])"
   ]
  },
  {
   "cell_type": "code",
   "execution_count": null,
   "id": "310593c2",
   "metadata": {},
   "outputs": [],
   "source": [
    "Invers_one = (np.linalg.inv(I1))\n",
    "Invers_two = (np.linalg.inv(I2))\n",
    "\n",
    "print(\"Första inversen till array är: \", \"\\n\", Invers_one, \"\\n\")\n",
    "\n",
    "print(\"Andra inversen till array är: \", \"\\n\", Invers_two,\"\\n\")"
   ]
  },
  {
   "cell_type": "code",
   "execution_count": null,
   "id": "e831db64",
   "metadata": {},
   "outputs": [],
   "source": [
    "#Kontroll om inversen gånger matrisen blir identitetsmatrisen\n",
    "#dvs [1, 0] [0, 1]\n",
    "\n",
    "#Det blir rätt men tredje kvadranten är ej avrundad\n",
    "print(\"Multiplikation av inversen med dens orginalmatris: \", \"\\n\", I1 @ Invers_one, \"\\n\")\n",
    "\n",
    "Rounded_matris = np.round(I1 @ Invers_one)\n",
    "\n",
    "print(\"Avrundad identitetsmatris: \",\"\\n\", Rounded_matris, \"\\n\")"
   ]
  },
  {
   "cell_type": "code",
   "execution_count": null,
   "id": "42d545e3",
   "metadata": {},
   "outputs": [],
   "source": [
    "#Kontroll om inversen gånger matrisen blir identitetsmatrisen\n",
    "#dvs [1, 0] [0, 1]\n",
    "\n",
    "#Det blir rätt men tredje kvadranten är ej avrundad\n",
    "print(\"Multiplikation av inversen med dens orginalmatris: \", \"\\n\", I2 @ Invers_two, \"\\n\")\n",
    "\n",
    "\n",
    "#Behöver ej avrunda denna\n",
    "#Rounded_matris2 = np.round(I2 @ Invers_two)\n",
    "\n",
    "#print(\"Avrundad identitetsmatris: \",\"\\n\", Rounded_matris2, \"\\n\")"
   ]
  },
  {
   "cell_type": "markdown",
   "id": "574b6d18",
   "metadata": {},
   "source": [
    "**Quiz p.19, Question 3**"
   ]
  },
  {
   "cell_type": "code",
   "execution_count": null,
   "id": "c4cc11eb",
   "metadata": {},
   "outputs": [],
   "source": [
    "I3 = np.array([[2, 2], [1, 2]])\n",
    "\n",
    "I3_invers = np.linalg.inv(I3)\n",
    "\n",
    "EQ1 = np.array([[2, -2], [-1, 2]])\n",
    "EQ2 = np.array([[-2, 2], [1, -2]])\n",
    "EQ3 = np.array([[2, 2], [-1, -2]])\n",
    "EQ4 = np.array([[-2, -2], [1, 2]])\n"
   ]
  },
  {
   "cell_type": "code",
   "execution_count": null,
   "id": "c003fe67",
   "metadata": {},
   "outputs": [],
   "source": [
    "print(((1/2)*EQ1 == I3_invers).all())\n",
    "\n",
    "print(((1/2)*EQ2 == I3_invers).all())\n",
    "\n",
    "print(((1/2)*EQ3 == I3_invers).all())\n",
    "\n",
    "print(((1/2)*EQ4 == I3_invers).all())\n",
    "\n",
    "\n",
    "#Svaret blir alltså A)"
   ]
  },
  {
   "cell_type": "markdown",
   "id": "5de93779",
   "metadata": {},
   "source": [
    "**Chap10. Question 1 a)**"
   ]
  },
  {
   "cell_type": "code",
   "execution_count": null,
   "id": "e9a63544",
   "metadata": {},
   "outputs": [],
   "source": [
    "A = np.array([[3, -7, -2], [-3, 5, 1], [6, -4, 0]])\n",
    "b_arrow = np.array([-7, 5, 2])\n"
   ]
  },
  {
   "cell_type": "code",
   "execution_count": null,
   "id": "80f81f0b",
   "metadata": {},
   "outputs": [],
   "source": [
    "# linjär-algebra solver som finns inbyggt i numpy\n",
    "x = np.linalg.solve(A, b_arrow)\n",
    "print(x)"
   ]
  },
  {
   "cell_type": "code",
   "execution_count": null,
   "id": "7c772c02",
   "metadata": {},
   "outputs": [],
   "source": [
    "# kollar om A gånger x blir b_arrow\n",
    "(A @ x == b_arrow).all()"
   ]
  },
  {
   "cell_type": "markdown",
   "id": "3f49e9e1",
   "metadata": {},
   "source": [
    "**Chap10. Question 1 b)**"
   ]
  },
  {
   "cell_type": "code",
   "execution_count": null,
   "id": "6f6e72fb",
   "metadata": {},
   "outputs": [],
   "source": [
    "A1 = np.array([[1, -2, 3], [-1, 3, -1], [2, -5, 5]])\n",
    "b_arrow1 = np.array([1, -1, 1])"
   ]
  },
  {
   "cell_type": "code",
   "execution_count": null,
   "id": "3aa698ce",
   "metadata": {},
   "outputs": [],
   "source": [
    "# linjär-algebra solver som finns inbyggt i numpy\n",
    "x1 = np.linalg.solve(A1, b_arrow1)\n",
    "print(x)"
   ]
  },
  {
   "cell_type": "code",
   "execution_count": null,
   "id": "75c83c6f",
   "metadata": {},
   "outputs": [],
   "source": [
    "# Double check if Ax = b.\n",
    "(A1 @ x1 == b_arrow1).all()"
   ]
  },
  {
   "cell_type": "markdown",
   "id": "beb0a8af",
   "metadata": {},
   "source": [
    "**Chap 12. Question 1**"
   ]
  },
  {
   "cell_type": "code",
   "execution_count": null,
   "id": "4fe15c46",
   "metadata": {},
   "outputs": [],
   "source": [
    "L12 = np.array([[3, -7, -2], [-3, 5, 1], [6, -4, 0]])"
   ]
  },
  {
   "cell_type": "code",
   "execution_count": null,
   "id": "0c7bc2e5",
   "metadata": {},
   "outputs": [],
   "source": [
    "L12_inverse = np.linalg.inv(L12)\n"
   ]
  },
  {
   "cell_type": "code",
   "execution_count": null,
   "id": "08da4c25",
   "metadata": {},
   "outputs": [],
   "source": [
    "#Kontroll så att inversen * matrisen blir Identitetsmatrisen\n",
    "np.round(L12 @ L12_inverse)"
   ]
  },
  {
   "cell_type": "markdown",
   "id": "6a4a524f",
   "metadata": {},
   "source": [
    "### Copies and Views\n",
    "Read the following link: https://numpy.org/doc/stable/user/basics.copies.html"
   ]
  },
  {
   "cell_type": "markdown",
   "id": "6cbbeaf7",
   "metadata": {},
   "source": [
    "**Basic indexing creates a view, How can you check if v1 and v2 is a view or copy? If you change the last element in v2 to 123, will the last element in v1 be changed? Why?**"
   ]
  },
  {
   "cell_type": "code",
   "execution_count": 10,
   "id": "5b9ef4df",
   "metadata": {},
   "outputs": [
    {
     "name": "stdout",
     "output_type": "stream",
     "text": [
      "[0 1 2 3]\n",
      "[2 3]\n"
     ]
    }
   ],
   "source": [
    "v1 = np.arange(4)\n",
    "v2 = v1[-2:]\n",
    "print(v1)\n",
    "print(v2)"
   ]
  },
  {
   "cell_type": "code",
   "execution_count": 11,
   "id": "d2440489",
   "metadata": {},
   "outputs": [
    {
     "name": "stdout",
     "output_type": "stream",
     "text": [
      "None\n",
      "[0 1 2 3]\n"
     ]
    }
   ],
   "source": [
    "# The base attribute of a view returns the original array while it returns None for a copy.\n",
    "\n",
    "print(v1.base)\n",
    "print(v2.base)"
   ]
  },
  {
   "cell_type": "code",
   "execution_count": 12,
   "id": "c8752807",
   "metadata": {},
   "outputs": [
    {
     "name": "stdout",
     "output_type": "stream",
     "text": [
      "[  0   1   2 123]\n",
      "[  2 123]\n"
     ]
    }
   ],
   "source": [
    "# The last element in v1 will be changed aswell since v2 is a view, meaning they share the same data buffer.\n",
    "v2[-1] = 123\n",
    "print(v1)\n",
    "print(v2)"
   ]
  },
  {
   "cell_type": "code",
   "execution_count": null,
   "id": "3dd68221",
   "metadata": {},
   "outputs": [],
   "source": [
    "#v1 är en kopia och v2 är en view, detta ser vi m.h.a .base\n",
    "#ändrar man på \"view\" så ändras även copyn. \n",
    "#Eftersom båda delar samma data så gör valfri modifiering ändring i båda"
   ]
  }
 ],
 "metadata": {
  "kernelspec": {
   "display_name": "Python 3 (ipykernel)",
   "language": "python",
   "name": "python3"
  },
  "language_info": {
   "codemirror_mode": {
    "name": "ipython",
    "version": 3
   },
   "file_extension": ".py",
   "mimetype": "text/x-python",
   "name": "python",
   "nbconvert_exporter": "python",
   "pygments_lexer": "ipython3",
   "version": "3.11.4"
  }
 },
 "nbformat": 4,
 "nbformat_minor": 5
}
